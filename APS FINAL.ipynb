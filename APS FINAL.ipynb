{
 "cells": [
  {
   "cell_type": "code",
   "execution_count": 21,
   "id": "bc8b6c8b",
   "metadata": {},
   "outputs": [],
   "source": [
    "import numpy as np\n",
    "import matplotlib.pyplot as plt \n",
    "import sys\n",
    "np.set_printoptions(threshold=sys.maxsize)\n",
    "from scipy import stats"
   ]
  },
  {
   "cell_type": "code",
   "execution_count": 6,
   "id": "c55dec5c",
   "metadata": {},
   "outputs": [],
   "source": [
    "#VKD0 == AMOSTRA COM ESTRATEGIA \n",
    "\n",
    "vkd0=np.array([0,0.33,0.8,1.2,1.8,2.5,4,6,9])\n",
    "vfreq0=np.array([0.33,0.15,0.17,0.11,0.083,0.07232,0.04289,0.04179])\n",
    "vfreqacum0=np.cumsum(vfreq0)"
   ]
  },
  {
   "cell_type": "code",
   "execution_count": 7,
   "id": "d0f81b6f",
   "metadata": {},
   "outputs": [],
   "source": [
    "valeat0=np.random.rand(200000)"
   ]
  },
  {
   "cell_type": "code",
   "execution_count": 9,
   "id": "e7f046b0",
   "metadata": {},
   "outputs": [],
   "source": [
    "vkdsim0=np.zeros(200000)\n",
    "\n",
    "for t in range (0,200000):\n",
    "    if valeat0[t]<=vfreqacum0[0]:\n",
    "        vkdsim0[t]=vkd0[0]\n",
    "    elif valeat0[t]<=vfreqacum0[1]:\n",
    "        vkdsim0[t]=vkd0[1]\n",
    "    elif valeat0[t]<=vfreqacum0[2]:\n",
    "        vkdsim0[t]=vkd0[2]\n",
    "    elif valeat0[t]<=vfreqacum0[3]:\n",
    "        vkdsim0[t]=vkd0[3]\n",
    "    elif valeat0[t]<=vfreqacum0[4]:\n",
    "        vkdsim0[t]=vkd0[4]\n",
    "    elif valeat0[t]<=vfreqacum0[5]:\n",
    "        vkdsim0[t]=vkd0[5]\n",
    "    elif valeat0[t]<=vfreqacum0[6]:\n",
    "        vkdsim0[t]=vkd0[6]\n",
    "    else:\n",
    "        vkdsim0[t]=vkd0[7]"
   ]
  },
  {
   "cell_type": "code",
   "execution_count": 11,
   "id": "d70fc38a",
   "metadata": {},
   "outputs": [
    {
     "data": {
      "text/plain": [
       "1.427814929210365"
      ]
     },
     "execution_count": 11,
     "metadata": {},
     "output_type": "execute_result"
    }
   ],
   "source": [
    "np.std(vkdsim0)"
   ]
  },
  {
   "cell_type": "code",
   "execution_count": 12,
   "id": "51e881f9",
   "metadata": {},
   "outputs": [
    {
     "data": {
      "text/plain": [
       "2.038655472076"
      ]
     },
     "execution_count": 12,
     "metadata": {},
     "output_type": "execute_result"
    }
   ],
   "source": [
    "np.var(vkdsim0)"
   ]
  },
  {
   "cell_type": "code",
   "execution_count": 13,
   "id": "ea8573c7",
   "metadata": {},
   "outputs": [
    {
     "data": {
      "text/plain": [
       "1.069118"
      ]
     },
     "execution_count": 13,
     "metadata": {},
     "output_type": "execute_result"
    }
   ],
   "source": [
    "np.mean(vkdsim0)"
   ]
  },
  {
   "cell_type": "code",
   "execution_count": 14,
   "id": "de9cb56f",
   "metadata": {},
   "outputs": [],
   "source": [
    "#----------------------------------------------------------------------------------------------------------------------"
   ]
  },
  {
   "cell_type": "code",
   "execution_count": 15,
   "id": "ca45f905",
   "metadata": {},
   "outputs": [],
   "source": [
    "#VKD1 == AMOSTRA SEM ESTRATEGIA \n",
    "vkd1=np.array([0,0.33,0.8,1.2,1.8,2.5,4,6,9])\n",
    "vfreq1=np.array([0.34,0.105,0.17,0.115,0.208,0,0.021,0.041])\n",
    "vfreqacum1=np.cumsum(vfreq1)"
   ]
  },
  {
   "cell_type": "code",
   "execution_count": 16,
   "id": "b5b59703",
   "metadata": {},
   "outputs": [],
   "source": [
    "valeat1=np.random.rand(200000)\n",
    "vkdsim1=np.zeros(200000)\n",
    "\n",
    "for t in range (0,200000):\n",
    "    if valeat1[t]<=vfreqacum1[0]:\n",
    "        vkdsim1[t]=vkd1[0]\n",
    "    elif valeat1[t]<=vfreqacum1[1]:\n",
    "        vkdsim1[t]=vkd1[1]\n",
    "    elif valeat1[t]<=vfreqacum1[2]:\n",
    "        vkdsim1[t]=vkd1[2]\n",
    "    elif valeat1[t]<=vfreqacum1[3]:\n",
    "        vkdsim1[t]=vkd1[3]\n",
    "    elif valeat1[t]<=vfreqacum1[4]:\n",
    "        vkdsim1[t]=vkd1[4]\n",
    "    elif valeat1[t]<=vfreqacum1[5]:\n",
    "        vkdsim1[t]=vkd1[5]\n",
    "    elif valeat1[t]<=vfreqacum1[6]:\n",
    "        vkdsim1[t]=vkd1[6]\n",
    "    else:\n",
    "        vkdsim1[t]=vkd1[7]"
   ]
  },
  {
   "cell_type": "code",
   "execution_count": 17,
   "id": "6b5b12e3",
   "metadata": {},
   "outputs": [
    {
     "data": {
      "text/plain": [
       "1.324712987976607"
      ]
     },
     "execution_count": 17,
     "metadata": {},
     "output_type": "execute_result"
    }
   ],
   "source": [
    "np.std(vkdsim1)"
   ]
  },
  {
   "cell_type": "code",
   "execution_count": 18,
   "id": "9d7afc5c",
   "metadata": {},
   "outputs": [
    {
     "data": {
      "text/plain": [
       "1.75486450051391"
      ]
     },
     "execution_count": 18,
     "metadata": {},
     "output_type": "execute_result"
    }
   ],
   "source": [
    "np.var(vkdsim1)"
   ]
  },
  {
   "cell_type": "code",
   "execution_count": 19,
   "id": "45eba0a5",
   "metadata": {},
   "outputs": [
    {
     "data": {
      "text/plain": [
       "1.0145647"
      ]
     },
     "execution_count": 19,
     "metadata": {},
     "output_type": "execute_result"
    }
   ],
   "source": [
    "np.mean(vkdsim1)"
   ]
  },
  {
   "cell_type": "code",
   "execution_count": 20,
   "id": "e029b302",
   "metadata": {},
   "outputs": [],
   "source": [
    "#----------------------------------------------------------------------------------------------------------------------"
   ]
  },
  {
   "cell_type": "code",
   "execution_count": 34,
   "id": "348c72b9",
   "metadata": {},
   "outputs": [
    {
     "name": "stdout",
     "output_type": "stream",
     "text": [
      "2.0386554720759995\n",
      "1.7548645005139103\n"
     ]
    },
    {
     "data": {
      "text/plain": [
       "1.1617167430755944"
      ]
     },
     "execution_count": 34,
     "metadata": {},
     "output_type": "execute_result"
    }
   ],
   "source": [
    "# VAR TEST\n",
    "\n",
    "var1=np.std(vkdsim0)**2\n",
    "var2=np.std(vkdsim1)**2\n",
    "\n",
    "print(var1)\n",
    "print(var2)\n",
    "\n",
    "F = var1/var2\n",
    "\n",
    "df1 = 200000-1\n",
    "df2 = df1\n",
    "\n",
    "F"
   ]
  },
  {
   "cell_type": "code",
   "execution_count": 35,
   "id": "c2a728a1",
   "metadata": {},
   "outputs": [
    {
     "data": {
      "text/plain": [
       "Ttest_indResult(statistic=12.526038764462891, pvalue=1.0)"
      ]
     },
     "execution_count": 35,
     "metadata": {},
     "output_type": "execute_result"
    }
   ],
   "source": [
    "# TESTE T INDEPENDENTE\n",
    "\n",
    "stats.ttest_ind(vkdsim0,vkdsim1,equal_var=False,alternative='less')"
   ]
  },
  {
   "cell_type": "code",
   "execution_count": null,
   "id": "39e1296a",
   "metadata": {},
   "outputs": [],
   "source": []
  }
 ],
 "metadata": {
  "kernelspec": {
   "display_name": "Python 3",
   "language": "python",
   "name": "python3"
  },
  "language_info": {
   "codemirror_mode": {
    "name": "ipython",
    "version": 3
   },
   "file_extension": ".py",
   "mimetype": "text/x-python",
   "name": "python",
   "nbconvert_exporter": "python",
   "pygments_lexer": "ipython3",
   "version": "3.8.8"
  }
 },
 "nbformat": 4,
 "nbformat_minor": 5
}
